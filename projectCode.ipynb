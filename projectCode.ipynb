{
 "cells": [
  {
   "cell_type": "markdown",
   "id": "25c0c5d9",
   "metadata": {},
   "source": [
    "# Project Code"
   ]
  },
  {
   "cell_type": "code",
   "execution_count": 2,
   "id": "4324dd80",
   "metadata": {},
   "outputs": [],
   "source": [
    "#imports \n",
    "import os \n",
    "\n",
    "from sklearn.model_selection import train_test_split\n",
    "from sklearn.metrics import confusion_matrix, classification_report\n",
    "from sklearn.preprocessing import StandardScaler\n",
    "from sklearn.pipeline import make_pipeline\n",
    "from sklearn.decomposition import PCA\n",
    "\n",
    "\n",
    "from sklearn.linear_model import LogisticRegression\n",
    "from sklearn.tree import DecisionTreeClassifier\n",
    "from sklearn.ensemble import RandomForestClassifier, VotingClassifier\n",
    "from sklearn.svm import SVC\n",
    "from sklearn.neural_network import MLPClassifier\n",
    "\n",
    "\n",
    "\n",
    "import numpy as np\n",
    "import pandas as pd\n",
    "import matplotlib.pyplot as plt"
   ]
  },
  {
   "cell_type": "markdown",
   "id": "e949865f",
   "metadata": {},
   "source": [
    "### Load Data"
   ]
  },
  {
   "cell_type": "code",
   "execution_count": 75,
   "id": "9e4f61fc",
   "metadata": {},
   "outputs": [
    {
     "name": "stdout",
     "output_type": "stream",
     "text": [
      "(66582, 18)\n",
      "(66582, 6) (66582,)\n"
     ]
    }
   ],
   "source": [
    "path = os.getcwd() + '/data/cleanedRecipeData.csv'\n",
    "\n",
    "data = pd.read_csv(path, header= 0)\n",
    "print(data.shape)\n",
    "data['ones'] = np.ones(data.shape[0])\n",
    "X = data[['ones', 'OG','FG','ABV','IBU','Color']].values\n",
    "y = data[['StyleID']].values\n",
    "y = y.ravel()\n",
    "print(X.shape, y.shape)"
   ]
  },
  {
   "cell_type": "markdown",
   "id": "b732ffd7",
   "metadata": {},
   "source": [
    "## Logistic Regression\n",
    "\n",
    "### Split Data"
   ]
  },
  {
   "cell_type": "code",
   "execution_count": 3,
   "id": "e36d0a26",
   "metadata": {},
   "outputs": [
    {
     "name": "stdout",
     "output_type": "stream",
     "text": [
      "(56594, 6)\n",
      "(9988, 6)\n"
     ]
    }
   ],
   "source": [
    "X_train, X_test, y_train, y_test = train_test_split(X, y, test_size=0.15, random_state=0)\n",
    "\n",
    "print(X_train.shape)\n",
    "print(X_test.shape)"
   ]
  },
  {
   "cell_type": "markdown",
   "id": "b02a19c2",
   "metadata": {},
   "source": [
    "### Scale Features"
   ]
  },
  {
   "cell_type": "code",
   "execution_count": 4,
   "id": "34477988",
   "metadata": {},
   "outputs": [],
   "source": [
    "scaler = StandardScaler()\n",
    "X_train_Scaled = scaler.fit_transform(X_train)\n",
    "X_test_Scaled = scaler.transform(X_test)"
   ]
  },
  {
   "cell_type": "markdown",
   "id": "b5f1dc87",
   "metadata": {},
   "source": [
    "### Build Model"
   ]
  },
  {
   "cell_type": "code",
   "execution_count": 5,
   "id": "da9027b8",
   "metadata": {},
   "outputs": [
    {
     "data": {
      "text/plain": [
       "LogisticRegression(max_iter=4500)"
      ]
     },
     "execution_count": 5,
     "metadata": {},
     "output_type": "execute_result"
    }
   ],
   "source": [
    "model = LogisticRegression(max_iter = 4500)\n",
    "model.fit(X_train_Scaled, y_train)\n"
   ]
  },
  {
   "cell_type": "code",
   "execution_count": 6,
   "id": "1de3a26c",
   "metadata": {},
   "outputs": [],
   "source": [
    "y_pred = model.predict(X_test_Scaled)"
   ]
  },
  {
   "cell_type": "code",
   "execution_count": 7,
   "id": "6d8452d5",
   "metadata": {},
   "outputs": [
    {
     "data": {
      "text/plain": [
       "<matplotlib.image.AxesImage at 0x176203f97c0>"
      ]
     },
     "execution_count": 7,
     "metadata": {},
     "output_type": "execute_result"
    },
    {
     "data": {
      "image/png": "[encoded data removed]",
      "text/plain": [
       "<Figure size 432x288 with 1 Axes>"
      ]
     },
     "metadata": {
      "needs_background": "light"
     },
     "output_type": "display_data"
    }
   ],
   "source": [
    "conf_matrix = np.array(confusion_matrix(y_test, y_pred))\n",
    "df = pd.DataFrame(conf_matrix)\n",
    "#print(df)\n",
    "plt.imshow(conf_matrix)"
   ]
  },
  {
   "cell_type": "markdown",
   "id": "506df848",
   "metadata": {},
   "source": [
    "### Performance"
   ]
  },
  {
   "cell_type": "code",
   "execution_count": 8,
   "id": "c4e2f24c",
   "metadata": {},
   "outputs": [
    {
     "name": "stdout",
     "output_type": "stream",
     "text": [
      "              precision    recall  f1-score   support\n",
      "\n",
      "           1       0.00      0.00      0.00        48\n",
      "           2       0.00      0.00      0.00       294\n",
      "           3       0.26      0.47      0.33      1124\n",
      "           4       0.32      0.07      0.11        92\n",
      "           5       0.26      0.15      0.19       332\n",
      "           6       0.00      0.00      0.00       370\n",
      "           7       0.39      0.31      0.34       310\n",
      "           8       0.00      0.00      0.00        32\n",
      "           9       0.00      0.00      0.00        68\n",
      "          10       0.08      0.01      0.02       179\n",
      "          11       0.00      0.00      0.00       106\n",
      "          12       0.00      0.00      0.00        25\n",
      "          13       0.00      0.00      0.00        84\n",
      "          14       0.53      0.84      0.65      2585\n",
      "          15       0.00      0.00      0.00       125\n",
      "          16       0.14      0.10      0.12       640\n",
      "          17       0.00      0.00      0.00       103\n",
      "          18       0.35      0.08      0.13        84\n",
      "          19       0.00      0.00      0.00       184\n",
      "          20       0.32      0.05      0.09       415\n",
      "          21       0.00      0.00      0.00       199\n",
      "          22       0.00      0.00      0.00        21\n",
      "          23       0.24      0.07      0.10       584\n",
      "          24       0.00      0.00      0.00        63\n",
      "          25       0.56      0.89      0.68       923\n",
      "          26       0.41      0.15      0.22       217\n",
      "          27       0.26      0.54      0.35       409\n",
      "          29       0.27      0.16      0.21       372\n",
      "\n",
      "    accuracy                           0.41      9988\n",
      "   macro avg       0.16      0.14      0.13      9988\n",
      "weighted avg       0.31      0.41      0.33      9988\n",
      "\n"
     ]
    },
    {
     "name": "stderr",
     "output_type": "stream",
     "text": [
      "C:\\Users\\deanp\\anaconda3\\lib\\site-packages\\sklearn\\metrics\\_classification.py:1245: UndefinedMetricWarning: Precision and F-score are ill-defined and being set to 0.0 in labels with no predicted samples. Use `zero_division` parameter to control this behavior.\n",
      "  _warn_prf(average, modifier, msg_start, len(result))\n",
      "C:\\Users\\deanp\\anaconda3\\lib\\site-packages\\sklearn\\metrics\\_classification.py:1245: UndefinedMetricWarning: Precision and F-score are ill-defined and being set to 0.0 in labels with no predicted samples. Use `zero_division` parameter to control this behavior.\n",
      "  _warn_prf(average, modifier, msg_start, len(result))\n",
      "C:\\Users\\deanp\\anaconda3\\lib\\site-packages\\sklearn\\metrics\\_classification.py:1245: UndefinedMetricWarning: Precision and F-score are ill-defined and being set to 0.0 in labels with no predicted samples. Use `zero_division` parameter to control this behavior.\n",
      "  _warn_prf(average, modifier, msg_start, len(result))\n"
     ]
    }
   ],
   "source": [
    "print(classification_report(y_test, y_pred))"
   ]
  },
  {
   "cell_type": "markdown",
   "id": "6f881984",
   "metadata": {},
   "source": [
    "# PCA"
   ]
  },
  {
   "cell_type": "code",
   "execution_count": 9,
   "id": "0b889348",
   "metadata": {},
   "outputs": [
    {
     "name": "stdout",
     "output_type": "stream",
     "text": [
      "[[ 0.00000000e+00 -5.58245993e-05  5.10198542e-06  1.35944034e-02\n",
      "   9.99725264e-01  1.90941401e-02]\n",
      " [ 0.00000000e+00  2.85499610e-03  1.16663650e-03  3.83794672e-02\n",
      "  -1.96032877e-02  9.99066172e-01]]\n",
      "[1730.8458702  147.3570818]\n"
     ]
    }
   ],
   "source": [
    "pca = PCA(n_components=2)\n",
    "pca.fit(X)\n",
    "\n",
    "print(pca.components_)\n",
    "print(pca.explained_variance_)\n",
    "\n",
    "pca = PCA(n_components=2)\n",
    "projected = pca.fit_transform(X)"
   ]
  },
  {
   "cell_type": "code",
   "execution_count": 10,
   "id": "d88cff72",
   "metadata": {},
   "outputs": [
    {
     "data": {
      "image/png": "[encoded data removed]",
      "text/plain": [
       "<Figure size 432x288 with 2 Axes>"
      ]
     },
     "metadata": {
      "needs_background": "light"
     },
     "output_type": "display_data"
    }
   ],
   "source": [
    "names = data[['Style']].values\n",
    "plt.scatter(projected[:, 0], projected[:, 1],\n",
    "            c=y, edgecolor='none', alpha=0.5,\n",
    "            cmap=plt.cm.get_cmap('nipy_spectral', 10))\n",
    "plt.xlabel('component 1')\n",
    "plt.ylabel('component 2')\n",
    "plt.colorbar();"
   ]
  },
  {
   "cell_type": "markdown",
   "id": "60e12e2c",
   "metadata": {},
   "source": [
    "# Random Forest"
   ]
  },
  {
   "cell_type": "code",
   "execution_count": 11,
   "id": "6b6beae0",
   "metadata": {},
   "outputs": [
    {
     "name": "stdout",
     "output_type": "stream",
     "text": [
      "Accuracy:  0.4853824589507409\n"
     ]
    }
   ],
   "source": [
    "model = RandomForestClassifier()\n",
    "model.fit(X_train,y_train)\n",
    "accuracy=model.score(X_test,y_test)\n",
    "print(\"Accuracy: \",accuracy)"
   ]
  },
  {
   "cell_type": "markdown",
   "id": "16fd3aad",
   "metadata": {},
   "source": [
    "# Narrowing Down the Styles"
   ]
  },
  {
   "cell_type": "code",
   "execution_count": 12,
   "id": "9afff1c0",
   "metadata": {},
   "outputs": [
    {
     "data": {
      "image/png": "[encoded data removed]",
      "text/plain": [
       "<Figure size 432x288 with 1 Axes>"
      ]
     },
     "metadata": {},
     "output_type": "display_data"
    }
   ],
   "source": [
    "styles = {}\n",
    "for beer in data['Style']:\n",
    "        try:\n",
    "            styles[beer] += 1\n",
    "        except:\n",
    "            styles[beer] = 1\n",
    "\n",
    "fig1, ax1 = plt.subplots()\n",
    "ax1.pie(styles.values(), labels=styles.keys(),autopct='%1.1f%%')\n",
    "ax1.axis('equal')  # Equal aspect ratio ensures that pie is drawn as a circle.\n",
    "\n",
    "plt.show()"
   ]
  },
  {
   "cell_type": "markdown",
   "id": "98659aa3",
   "metadata": {},
   "source": [
    "IPA, APA, Stout, and Lager make up about 52.7% of the data"
   ]
  },
  {
   "cell_type": "markdown",
   "id": "e1ac787a",
   "metadata": {},
   "source": [
    "# Load data with only select styles"
   ]
  },
  {
   "cell_type": "code",
   "execution_count": 32,
   "id": "30e25167",
   "metadata": {},
   "outputs": [
    {
     "name": "stdout",
     "output_type": "stream",
     "text": [
      "(35046, 18)\n",
      "(35046, 6) (35046,)\n"
     ]
    }
   ],
   "source": [
    "path = os.getcwd() + '/data/popularRecipeData.csv'\n",
    "\n",
    "data2 = pd.read_csv(path, header= 0)\n",
    "print(data2.shape)\n",
    "data2['ones'] = np.ones(data2.shape[0])\n",
    "X2 = data2[['ones', 'OG','FG','ABV','IBU','Color']].values\n",
    "y2 = data2[['StyleID']].values\n",
    "y2_names = data2[['Style']].values #output more readable with names instead of number labels\n",
    "y2 = y2.ravel()\n",
    "y2_names = y_names.ravel()\n",
    "print(X2.shape, y2.shape)"
   ]
  },
  {
   "cell_type": "code",
   "execution_count": 77,
   "id": "db94a891",
   "metadata": {},
   "outputs": [
    {
     "data": {
      "image/png": "[encoded data removed]",
      "text/plain": [
       "<Figure size 432x288 with 1 Axes>"
      ]
     },
     "metadata": {},
     "output_type": "display_data"
    }
   ],
   "source": [
    "styles = {}\n",
    "for beer in data2['Style']:\n",
    "        try:\n",
    "            styles[beer] += 1\n",
    "        except:\n",
    "            styles[beer] = 1\n",
    "\n",
    "fig1, ax1 = plt.subplots()\n",
    "ax1.pie(styles.values(), labels=styles.keys(),autopct='%1.1f%%')\n",
    "ax1.axis('equal')  # Equal aspect ratio ensures that pie is drawn as a circle.\n",
    "\n",
    "plt.show()"
   ]
  },
  {
   "cell_type": "markdown",
   "id": "d83dfa67",
   "metadata": {},
   "source": [
    "## PCA"
   ]
  },
  {
   "cell_type": "code",
   "execution_count": 14,
   "id": "56537e8c",
   "metadata": {},
   "outputs": [
    {
     "name": "stdout",
     "output_type": "stream",
     "text": [
      "[[-0.00000000e+00 -3.56901435e-04 -7.63914530e-05  1.26115251e-02\n",
      "   9.99899373e-01 -6.48531851e-03]\n",
      " [ 0.00000000e+00  3.35699552e-03  1.31169217e-03  3.86161509e-02\n",
      "   5.99521548e-03  9.99229633e-01]]\n",
      "[2416.75629486  185.59576882]\n"
     ]
    }
   ],
   "source": [
    "pca2 = PCA(n_components=2)\n",
    "pca2.fit(X2)\n",
    "\n",
    "print(pca2.components_)\n",
    "print(pca2.explained_variance_)\n",
    "\n",
    "pca2 = PCA(n_components=2)\n",
    "projected2 = pca2.fit_transform(X2)"
   ]
  },
  {
   "cell_type": "code",
   "execution_count": 15,
   "id": "21e58f23",
   "metadata": {},
   "outputs": [
    {
     "data": {
      "image/png": "[encoded data removed]",
      "text/plain": [
       "<Figure size 432x288 with 2 Axes>"
      ]
     },
     "metadata": {
      "needs_background": "light"
     },
     "output_type": "display_data"
    }
   ],
   "source": [
    "plt.scatter(projected2[:, 0], projected2[:, 1],\n",
    "            c=y2, edgecolor='none', alpha=0.5,\n",
    "            cmap=plt.cm.get_cmap('nipy_spectral', 10))\n",
    "plt.xlabel('component 1')\n",
    "plt.ylabel('component 2')\n",
    "plt.colorbar();"
   ]
  },
  {
   "cell_type": "markdown",
   "id": "bd8b370e",
   "metadata": {},
   "source": [
    "## Split into train and test"
   ]
  },
  {
   "cell_type": "code",
   "execution_count": 4,
   "id": "6780c680",
   "metadata": {},
   "outputs": [
    {
     "name": "stdout",
     "output_type": "stream",
     "text": [
      "(29789, 6)\n",
      "(5257, 6)\n"
     ]
    }
   ],
   "source": [
    "X2_train, X2_test, y2_train, y2_test = train_test_split(X2, y2_names, test_size=0.15, random_state=0)\n",
    "\n",
    "print(X2_train.shape)\n",
    "print(X2_test.shape)"
   ]
  },
  {
   "cell_type": "code",
   "execution_count": 5,
   "id": "d68d8ca0",
   "metadata": {},
   "outputs": [],
   "source": [
    "scaler = StandardScaler()\n",
    "X2_train_Scaled = scaler.fit_transform(X2_train)\n",
    "X2_test_Scaled = scaler.transform(X2_test)"
   ]
  },
  {
   "cell_type": "markdown",
   "id": "1b9021c9",
   "metadata": {},
   "source": [
    "## Logistic Regression"
   ]
  },
  {
   "cell_type": "code",
   "execution_count": 12,
   "id": "5d07134f",
   "metadata": {},
   "outputs": [
    {
     "name": "stdout",
     "output_type": "stream",
     "text": [
      "Accuracy:  0.710481263077801\n"
     ]
    }
   ],
   "source": [
    "model = LogisticRegression(max_iter = 4500)\n",
    "model.fit(X2_train_Scaled, y2_train)\n",
    "accuracy=model.score(X2_test_Scaled,y2_test)\n",
    "print(\"Accuracy: \",accuracy)"
   ]
  },
  {
   "cell_type": "code",
   "execution_count": 19,
   "id": "278c1c8e",
   "metadata": {},
   "outputs": [],
   "source": [
    "y2_pred = model.predict(X2_test_Scaled)"
   ]
  },
  {
   "cell_type": "code",
   "execution_count": 20,
   "id": "be060522",
   "metadata": {},
   "outputs": [
    {
     "data": {
      "text/plain": [
       "<matplotlib.image.AxesImage at 0x17605426f10>"
      ]
     },
     "execution_count": 20,
     "metadata": {},
     "output_type": "execute_result"
    },
    {
     "data": {
      "image/png": "[encoded data removed]",
      "text/plain": [
       "<Figure size 432x288 with 1 Axes>"
      ]
     },
     "metadata": {
      "needs_background": "light"
     },
     "output_type": "display_data"
    }
   ],
   "source": [
    "conf_matrix = np.array(confusion_matrix(y2_test, y2_pred))\n",
    "df = pd.DataFrame(conf_matrix)\n",
    "#print(df)\n",
    "plt.imshow(conf_matrix)"
   ]
  },
  {
   "cell_type": "code",
   "execution_count": 21,
   "id": "77c6e9c8",
   "metadata": {},
   "outputs": [
    {
     "name": "stdout",
     "output_type": "stream",
     "text": [
      "              precision    recall  f1-score   support\n",
      "\n",
      "         APA       0.55      0.47      0.51      1176\n",
      "         IPA       0.74      0.87      0.80      2541\n",
      "       Lager       0.45      0.20      0.28       618\n",
      "       Stout       0.85      0.93      0.89       922\n",
      "\n",
      "    accuracy                           0.71      5257\n",
      "   macro avg       0.65      0.62      0.62      5257\n",
      "weighted avg       0.68      0.71      0.69      5257\n",
      "\n"
     ]
    }
   ],
   "source": [
    "print(classification_report(y2_test, y2_pred))"
   ]
  },
  {
   "cell_type": "markdown",
   "id": "ffc28b01",
   "metadata": {},
   "source": [
    "## Random Forest"
   ]
  },
  {
   "cell_type": "code",
   "execution_count": 13,
   "id": "da31f90a",
   "metadata": {},
   "outputs": [
    {
     "name": "stdout",
     "output_type": "stream",
     "text": [
      "Accuracy:  0.7743960433707437\n"
     ]
    }
   ],
   "source": [
    "model = RandomForestClassifier()\n",
    "model.fit(X2_train_Scaled,y2_train)\n",
    "accuracy=model.score(X2_test_Scaled,y2_test)\n",
    "print(\"Accuracy: \",accuracy)"
   ]
  },
  {
   "cell_type": "code",
   "execution_count": 14,
   "id": "37cddac3",
   "metadata": {},
   "outputs": [],
   "source": [
    "y2_pred = model.predict(X2_test_Scaled)"
   ]
  },
  {
   "cell_type": "code",
   "execution_count": 15,
   "id": "35874d21",
   "metadata": {},
   "outputs": [
    {
     "data": {
      "text/plain": [
       "<matplotlib.image.AxesImage at 0x25eff2b9b50>"
      ]
     },
     "execution_count": 15,
     "metadata": {},
     "output_type": "execute_result"
    },
    {
     "data": {
      "image/png": "[encoded data removed]",
      "text/plain": [
       "<Figure size 432x288 with 1 Axes>"
      ]
     },
     "metadata": {
      "needs_background": "light"
     },
     "output_type": "display_data"
    }
   ],
   "source": [
    "conf_matrix = np.array(confusion_matrix(y2_test, y2_pred))\n",
    "df = pd.DataFrame(conf_matrix)\n",
    "#print(df)\n",
    "plt.imshow(conf_matrix)"
   ]
  },
  {
   "cell_type": "code",
   "execution_count": 16,
   "id": "a78ce07f",
   "metadata": {},
   "outputs": [
    {
     "name": "stdout",
     "output_type": "stream",
     "text": [
      "              precision    recall  f1-score   support\n",
      "\n",
      "         APA       0.67      0.62      0.65      1176\n",
      "         IPA       0.81      0.86      0.83      2541\n",
      "       Lager       0.61      0.50      0.55       618\n",
      "       Stout       0.89      0.92      0.90       922\n",
      "\n",
      "    accuracy                           0.77      5257\n",
      "   macro avg       0.74      0.73      0.73      5257\n",
      "weighted avg       0.77      0.77      0.77      5257\n",
      "\n"
     ]
    }
   ],
   "source": [
    "print(classification_report(y2_test, y2_pred))"
   ]
  },
  {
   "cell_type": "code",
   "execution_count": 53,
   "id": "8c160cca",
   "metadata": {},
   "outputs": [
    {
     "data": {
      "image/png": "[encoded data removed]",
      "text/plain": [
       "<Figure size 432x288 with 1 Axes>"
      ]
     },
     "metadata": {
      "needs_background": "light"
     },
     "output_type": "display_data"
    },
    {
     "name": "stdout",
     "output_type": "stream",
     "text": [
      "0.776488491535096 13\n"
     ]
    }
   ],
   "source": [
    "scores = []\n",
    "for i in range(20):\n",
    "    #print(i)\n",
    "    model = RandomForestClassifier(n_estimators = i*10+1)\n",
    "    model.fit(X2_train_Scaled,y2_train)\n",
    "    accuracy=model.score(X2_test_Scaled,y2_test)\n",
    "    scores.append(accuracy)\n",
    "\n",
    "\n",
    "x = np.linspace(1,200,20)\n",
    "plt.plot(x,scores)\n",
    "plt.xlabel(\"Max Featues\")\n",
    "plt.ylabel(\"Accuracy\")\n",
    "\n",
    "\n",
    "plt.show()\n",
    "print(max(scores), scores.index(max(scores))*10+1)"
   ]
  },
  {
   "cell_type": "code",
   "execution_count": 17,
   "id": "6242565d",
   "metadata": {},
   "outputs": [
    {
     "name": "stdout",
     "output_type": "stream",
     "text": [
      "Accuracy:  0.7757276012935134\n"
     ]
    }
   ],
   "source": [
    "model = RandomForestClassifier(n_estimators = 131)\n",
    "model.fit(X2_train_Scaled,y2_train)\n",
    "accuracy=model.score(X2_test_Scaled,y2_test)\n",
    "print(\"Accuracy: \",accuracy)"
   ]
  },
  {
   "cell_type": "code",
   "execution_count": 19,
   "id": "8d5b4d7b",
   "metadata": {},
   "outputs": [
    {
     "name": "stdout",
     "output_type": "stream",
     "text": [
      "              precision    recall  f1-score   support\n",
      "\n",
      "         APA       0.67      0.62      0.64      1176\n",
      "         IPA       0.81      0.86      0.83      2541\n",
      "       Lager       0.62      0.50      0.55       618\n",
      "       Stout       0.89      0.93      0.91       922\n",
      "\n",
      "    accuracy                           0.78      5257\n",
      "   macro avg       0.74      0.73      0.73      5257\n",
      "weighted avg       0.77      0.78      0.77      5257\n",
      "\n"
     ]
    }
   ],
   "source": [
    "y2_pred = model.predict(X2_test_Scaled)\n",
    "print(classification_report(y2_test, y2_pred))"
   ]
  },
  {
   "cell_type": "markdown",
   "id": "957e6c7d",
   "metadata": {},
   "source": [
    "## SVM"
   ]
  },
  {
   "cell_type": "code",
   "execution_count": 80,
   "id": "27907674",
   "metadata": {},
   "outputs": [
    {
     "data": {
      "text/plain": [
       "0.761270686703443"
      ]
     },
     "execution_count": 80,
     "metadata": {},
     "output_type": "execute_result"
    }
   ],
   "source": [
    "model = SVC(C = 1, gamma = 'auto')\n",
    "model.fit(X2_train_Scaled, y2_train)\n",
    "accuracy = model.score(X2_test_Scaled,y2_test)\n",
    "accuracy"
   ]
  },
  {
   "cell_type": "code",
   "execution_count": 10,
   "id": "094d6c87",
   "metadata": {},
   "outputs": [
    {
     "name": "stdout",
     "output_type": "stream",
     "text": [
      "0\n",
      "1\n",
      "2\n",
      "3\n",
      "4\n",
      "5\n",
      "6\n",
      "7\n",
      "8\n",
      "9\n",
      "10\n",
      "11\n",
      "12\n",
      "13\n",
      "14\n",
      "15\n",
      "16\n",
      "17\n",
      "18\n",
      "19\n"
     ]
    }
   ],
   "source": [
    "scores = []\n",
    "x = []\n",
    "for i in range(20):\n",
    "    print(i)\n",
    "    c = 10**((i-10)/10)\n",
    "    x.append(c)\n",
    "    model = SVC(C = c, gamma = 'auto')\n",
    "    model.fit(X2_train_Scaled,y2_train)\n",
    "    accuracy=model.score(X2_test_Scaled,y2_test)\n",
    "    scores.append(accuracy)"
   ]
  },
  {
   "cell_type": "code",
   "execution_count": 11,
   "id": "3c7c90bb",
   "metadata": {},
   "outputs": [
    {
     "data": {
      "image/png": "[encoded data removed]",
      "text/plain": [
       "<Figure size 432x288 with 1 Axes>"
      ]
     },
     "metadata": {
      "needs_background": "light"
     },
     "output_type": "display_data"
    },
    {
     "name": "stdout",
     "output_type": "stream",
     "text": [
      "0.7671675860757086 7.943282347242816\n"
     ]
    }
   ],
   "source": [
    "plt.plot(x,scores)\n",
    "plt.xlabel(\"c\")\n",
    "plt.ylabel(\"Accuracy\")\n",
    "\n",
    "\n",
    "plt.show()\n",
    "print(max(scores), 10**((scores.index(max(scores))-10)/10))"
   ]
  },
  {
   "cell_type": "code",
   "execution_count": 20,
   "id": "99cadf20",
   "metadata": {},
   "outputs": [
    {
     "data": {
      "text/plain": [
       "0.7671675860757086"
      ]
     },
     "execution_count": 20,
     "metadata": {},
     "output_type": "execute_result"
    }
   ],
   "source": [
    "model = SVC(C = 7.943282347242816, gamma = 'auto')\n",
    "model.fit(X2_train_Scaled, y2_train)\n",
    "accuracy = model.score(X2_test_Scaled,y2_test)\n",
    "accuracy"
   ]
  },
  {
   "cell_type": "code",
   "execution_count": 21,
   "id": "efcb11ad",
   "metadata": {},
   "outputs": [
    {
     "name": "stdout",
     "output_type": "stream",
     "text": [
      "              precision    recall  f1-score   support\n",
      "\n",
      "         APA       0.62      0.66      0.64      1176\n",
      "         IPA       0.82      0.85      0.83      2541\n",
      "       Lager       0.62      0.36      0.46       618\n",
      "       Stout       0.87      0.95      0.90       922\n",
      "\n",
      "    accuracy                           0.77      5257\n",
      "   macro avg       0.73      0.70      0.71      5257\n",
      "weighted avg       0.76      0.77      0.76      5257\n",
      "\n"
     ]
    }
   ],
   "source": [
    "y2_pred = model.predict(X2_test_Scaled)\n",
    "print(classification_report(y2_test, y2_pred))"
   ]
  },
  {
   "cell_type": "markdown",
   "id": "32e3dad8",
   "metadata": {},
   "source": [
    "## Voting Classifier"
   ]
  },
  {
   "cell_type": "code",
   "execution_count": 28,
   "id": "269bf9c4",
   "metadata": {},
   "outputs": [
    {
     "data": {
      "text/plain": [
       "0.7662164732737302"
      ]
     },
     "execution_count": 28,
     "metadata": {},
     "output_type": "execute_result"
    }
   ],
   "source": [
    "lr = LogisticRegression(max_iter = 4500)\n",
    "rf = RandomForestClassifier(n_estimators = 131)\n",
    "svm = SVC(C = 7.943282347242816, gamma = 'auto')\n",
    "\n",
    "voting_model = VotingClassifier(estimators = [('lr', lr), ('rf', rf), ('svc', svm)], voting = 'hard')\n",
    "voting_model.fit(X2_train_Scaled, y2_train)\n",
    "accuracy=voting_model.score(X2_test_Scaled,y2_test)\n",
    "accuracy"
   ]
  },
  {
   "cell_type": "code",
   "execution_count": 29,
   "id": "d078a3c8",
   "metadata": {},
   "outputs": [],
   "source": [
    "y2_pred = voting_model.predict(X2_test_Scaled)"
   ]
  },
  {
   "cell_type": "code",
   "execution_count": 94,
   "id": "804fb535",
   "metadata": {},
   "outputs": [
    {
     "data": {
      "text/plain": [
       "<matplotlib.image.AxesImage at 0x17603e3b220>"
      ]
     },
     "execution_count": 94,
     "metadata": {},
     "output_type": "execute_result"
    },
    {
     "data": {
      "image/png": "[encoded data removed]",
      "text/plain": [
       "<Figure size 432x288 with 1 Axes>"
      ]
     },
     "metadata": {
      "needs_background": "light"
     },
     "output_type": "display_data"
    }
   ],
   "source": [
    "conf_matrix = np.array(confusion_matrix(y2_test, y2_pred))\n",
    "df = pd.DataFrame(conf_matrix)\n",
    "#print(df)\n",
    "plt.imshow(conf_matrix)"
   ]
  },
  {
   "cell_type": "code",
   "execution_count": 30,
   "id": "fb0f8fba",
   "metadata": {},
   "outputs": [
    {
     "name": "stdout",
     "output_type": "stream",
     "text": [
      "              precision    recall  f1-score   support\n",
      "\n",
      "         APA       0.64      0.62      0.63      1176\n",
      "         IPA       0.80      0.86      0.83      2541\n",
      "       Lager       0.63      0.37      0.47       618\n",
      "       Stout       0.86      0.94      0.90       922\n",
      "\n",
      "    accuracy                           0.77      5257\n",
      "   macro avg       0.73      0.70      0.71      5257\n",
      "weighted avg       0.76      0.77      0.76      5257\n",
      "\n"
     ]
    }
   ],
   "source": [
    "print(classification_report(y2_test, y2_pred))"
   ]
  },
  {
   "cell_type": "markdown",
   "id": "c4d39e22",
   "metadata": {},
   "source": [
    "## MLP"
   ]
  },
  {
   "cell_type": "code",
   "execution_count": 6,
   "id": "37792e9d",
   "metadata": {},
   "outputs": [
    {
     "name": "stderr",
     "output_type": "stream",
     "text": [
      "C:\\Users\\deanp\\anaconda3\\lib\\site-packages\\sklearn\\neural_network\\_multilayer_perceptron.py:614: ConvergenceWarning: Stochastic Optimizer: Maximum iterations (200) reached and the optimization hasn't converged yet.\n",
      "  warnings.warn(\n"
     ]
    },
    {
     "data": {
      "text/plain": [
       "0.7728742628875784"
      ]
     },
     "execution_count": 6,
     "metadata": {},
     "output_type": "execute_result"
    }
   ],
   "source": [
    "model = MLPClassifier(hidden_layer_sizes= (15),activation='relu')\n",
    "model.fit(X2_train_Scaled, y2_train)\n",
    "accuracy=model.score(X2_test_Scaled,y2_test)\n",
    "accuracy"
   ]
  },
  {
   "cell_type": "code",
   "execution_count": 7,
   "id": "9cf00c24",
   "metadata": {},
   "outputs": [],
   "source": [
    "y2_pred = model.predict(X2_test_Scaled)"
   ]
  },
  {
   "cell_type": "code",
   "execution_count": 8,
   "id": "bc876708",
   "metadata": {},
   "outputs": [
    {
     "data": {
      "text/plain": [
       "<matplotlib.image.AxesImage at 0x25ef2426c40>"
      ]
     },
     "execution_count": 8,
     "metadata": {},
     "output_type": "execute_result"
    },
    {
     "data": {
      "image/png": "[encoded data removed]",
      "text/plain": [
       "<Figure size 432x288 with 1 Axes>"
      ]
     },
     "metadata": {
      "needs_background": "light"
     },
     "output_type": "display_data"
    }
   ],
   "source": [
    "conf_matrix = np.array(confusion_matrix(y2_test, y2_pred))\n",
    "df = pd.DataFrame(conf_matrix)\n",
    "#print(df)\n",
    "plt.imshow(conf_matrix)"
   ]
  },
  {
   "cell_type": "code",
   "execution_count": 9,
   "id": "02d9736a",
   "metadata": {},
   "outputs": [
    {
     "name": "stdout",
     "output_type": "stream",
     "text": [
      "              precision    recall  f1-score   support\n",
      "\n",
      "         APA       0.64      0.65      0.64      1176\n",
      "         IPA       0.82      0.86      0.84      2541\n",
      "       Lager       0.61      0.40      0.49       618\n",
      "       Stout       0.87      0.94      0.91       922\n",
      "\n",
      "    accuracy                           0.77      5257\n",
      "   macro avg       0.74      0.71      0.72      5257\n",
      "weighted avg       0.76      0.77      0.77      5257\n",
      "\n"
     ]
    }
   ],
   "source": [
    "print(classification_report(y2_test, y2_pred))"
   ]
  }
 ],
 "metadata": {
  "kernelspec": {
   "display_name": "Python 3",
   "language": "python",
   "name": "python3"
  },
  "language_info": {
   "codemirror_mode": {
    "name": "ipython",
    "version": 3
   },
   "file_extension": ".py",
   "mimetype": "text/x-python",
   "name": "python",
   "nbconvert_exporter": "python",
   "pygments_lexer": "ipython3",
   "version": "3.8.8"
  }
 },
 "nbformat": 4,
 "nbformat_minor": 5
}
